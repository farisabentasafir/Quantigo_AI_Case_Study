{
  "nbformat": 4,
  "nbformat_minor": 0,
  "metadata": {
    "colab": {
      "provenance": [],
      "collapsed_sections": []
    },
    "kernelspec": {
      "name": "python3",
      "display_name": "Python 3"
    },
    "language_info": {
      "name": "python"
    }
  },
  "cells": [
    {
      "cell_type": "markdown",
      "source": [
        "**Purpose**\n",
        "\n",
        "The purpose of this test is to evaluate analytical abilities. A case study is an integral part while selecting candidates for an engineering post. It allows the candidates to experience situations that they might actually face in the current world. When responding to the questions, add the source code that is used to derive the answer."
      ],
      "metadata": {
        "id": "dOizMnPdlCQx"
      }
    },
    {
      "cell_type": "markdown",
      "source": [
        "**Scenario:**\n",
        "1. Suppose You have a JSON file: **pos_0.png.json**. Your job is to write a python script that will read JSON from a folder and convert this format into a standard format: **formatted_pos_0.png.json**\n",
        "\n",
        "--> note: object attribute (presence) will be dependent on if the class (vehicle or license plate) is present on the raw JSON. If both the classes are missing look at the example **formatted_pos_10492.png.json**\n",
        "\n",
        "You may test out your code with the following jsons:\n",
        "\n",
        "**Pos_0.png.json**\n",
        "\n",
        "**Pos_10010.png.json**\n",
        "\n",
        "**Pos_10492.png.json**\n",
        "\n",
        "2. Write a python that can read json from a folder and combine the test jsons (**Pos_0.png.json**,**Pos_10010.png.json**, **Pos_10492.png.json**) into a single json file and then change the class names into vehicle>car, license plate>number"
      ],
      "metadata": {
        "id": "by6GfrwcllyQ"
      }
    },
    {
      "cell_type": "code",
      "source": [
        "!mkdir /content/sampleJson\n",
        "# upload files if not available\n",
        "!mkdir /content/sampleJson/scenario1\n",
        "!mkdir /content/sampleJson/scenario2"
      ],
      "metadata": {
        "id": "hNMBcvus3g9-"
      },
      "execution_count": 1,
      "outputs": []
    },
    {
      "cell_type": "code",
      "execution_count": 3,
      "metadata": {
        "id": "wzWD67Mskjr1",
        "colab": {
          "base_uri": "https://localhost:8080/"
        },
        "outputId": "a586924d-27be-4ad0-8f18-c47c38a09eb0"
      },
      "outputs": [
        {
          "output_type": "stream",
          "name": "stdout",
          "text": [
            "/content/sampleJson\n"
          ]
        }
      ],
      "source": [
        "%cd /content/sampleJson\n",
        "!cp pos_0.png.json pos_10010.png.json pos_10492.png.json /content/sampleJson/scenario1/\n",
        "!cp pos_0.png.json pos_10010.png.json pos_10492.png.json /content/sampleJson/scenario2/"
      ]
    },
    {
      "cell_type": "code",
      "source": [
        "import os\n",
        "import glob\n",
        "import json"
      ],
      "metadata": {
        "id": "vgMib9Y30TFg"
      },
      "execution_count": 4,
      "outputs": []
    },
    {
      "cell_type": "markdown",
      "source": [
        "Answer to the scenario 1."
      ],
      "metadata": {
        "id": "7FJ368uKoL2s"
      }
    },
    {
      "cell_type": "code",
      "source": [
        "def scenario1():\n",
        "    scenario1_content_path = \"/content/sampleJson/scenario1/\"\n",
        "    file_extension = \"json\"\n",
        "    os.chdir(scenario1_content_path)\n",
        "    file_list = glob.glob('*.{}'.format(file_extension))\n",
        "    \n",
        "    for file_name in file_list:\n",
        "        file_path = '{}{}'.format(scenario1_content_path, file_name)\n",
        "        findings = {\n",
        "            \"dataset_name\": str(file_name),\n",
        "            \"image_link\": \"\",\n",
        "            \"annotation_type\": \"image\",\n",
        "            \"annotation_objects\": {\n",
        "                \"vehicle\": {\n",
        "                    \"presence\": 0,\n",
        "                    \"bbox\": []\n",
        "                },\n",
        "                \"license_plate\": {\n",
        "                    \"presence\": 0,\n",
        "                    \"bbox\": []\n",
        "                }\n",
        "            },\n",
        "            \"annotation_attributes\": {\n",
        "                \"vehicle\": {\n",
        "                    \"Type\": None,\n",
        "                    \"Pose\": None,\n",
        "                    \"Model\": None,\n",
        "                    \"Make\": None,\n",
        "                    \"Color\": None\n",
        "                },\n",
        "                \"license_plate\": {\n",
        "                    \"Difficulty Score\": None,\n",
        "                    \"Value\": None,\n",
        "                    \"Occlusion\": None\n",
        "                }\n",
        "            }\n",
        "        }\n",
        "        vehicle_presence = 0\n",
        "        license_plate_presence = 0\n",
        "        # Opening JSON file\n",
        "        with open(file_path) as f:\n",
        "            data_dict = json.load(f)\n",
        "            objects = data_dict[\"objects\"]\n",
        "            if len(objects) > 0:\n",
        "                for obj in objects:\n",
        "                    if obj[\"classTitle\"] == \"Vehicle\":\n",
        "                        vehicle_presence = vehicle_presence + 1\n",
        "                        tags = obj[\"tags\"]\n",
        "                        for tag in tags:\n",
        "                            findings[\"annotation_attributes\"][\"vehicle\"][str(tag[\"name\"])] = str(tag[\"value\"])\n",
        "                        exterior = obj[\"points\"][\"exterior\"]\n",
        "                        if len(exterior) > 0:\n",
        "                            exterior_list = []\n",
        "                            for value in exterior:\n",
        "                                exterior_list = exterior_list + value\n",
        "                            findings[\"annotation_objects\"][\"vehicle\"][\"bbox\"] = exterior_list\n",
        "                    elif obj[\"classTitle\"] == \"License Plate\":\n",
        "                        license_plate_presence = license_plate_presence + 1\n",
        "                        findings[\"annotation_attributes\"][\"license_plate\"][\"Occlusion\"] = 0\n",
        "                        tags = obj[\"tags\"]\n",
        "                        for tag in tags:\n",
        "                            findings[\"annotation_attributes\"][\"license_plate\"][str(tag[\"name\"])] = int(tag[\"value\"]) if str(tag[\"value\"]).isdigit() else str(tag[\"value\"])\n",
        "                        exterior = obj[\"points\"][\"exterior\"]\n",
        "                        if len(exterior) > 0:\n",
        "                            exterior_list = []\n",
        "                            for value in exterior:\n",
        "                                exterior_list = exterior_list + value\n",
        "                            findings[\"annotation_objects\"][\"license_plate\"][\"bbox\"] = exterior_list\n",
        "                    findings[\"annotation_objects\"][\"vehicle\"][\"presence\"] = int(vehicle_presence)\n",
        "                    findings[\"annotation_objects\"][\"license_plate\"][\"presence\"] = int(license_plate_presence)\n",
        "                result = [findings]\n",
        "            else:\n",
        "                result = [findings]\n",
        "            formatted_file_name = \"formatted_\" + file_name\n",
        "            formatted_file_path = '{}{}'.format(scenario1_content_path, formatted_file_name)\n",
        "            with open(formatted_file_path, mode=\"w\") as ff:\n",
        "                json.dump(result, ff, indent=4)"
      ],
      "metadata": {
        "id": "mLD0E4xf4Hlb"
      },
      "execution_count": 5,
      "outputs": []
    },
    {
      "cell_type": "code",
      "source": [
        "scenario1()"
      ],
      "metadata": {
        "id": "1zS36VQK9ht6"
      },
      "execution_count": 7,
      "outputs": []
    },
    {
      "cell_type": "markdown",
      "source": [
        "Answer to the scenario 2."
      ],
      "metadata": {
        "id": "G9q3UKVY4SNN"
      }
    },
    {
      "cell_type": "code",
      "source": [
        "def scenario2():\n",
        "    scenario2_content_path = \"/content/sampleJson/scenario2/\"\n",
        "    file_extension = \"json\"\n",
        "    os.chdir(scenario2_content_path)\n",
        "    file_list = glob.glob('*.{}'.format(file_extension))\n",
        "    accumulated_json_list =[]\n",
        "    \n",
        "    for file_name in file_list:\n",
        "        file_path = '{}{}'.format(scenario2_content_path, file_name)\n",
        "        # Opening JSON file\n",
        "        with open(file_path) as f:\n",
        "            data_dict = json.load(f)\n",
        "            try:\n",
        "                data_dict[\"objects\"][0][\"classTitle\"] = \"Car\" if data_dict[\"objects\"][0][\"classTitle\"] == \"Vehicle\" else \"Number\"\n",
        "                data_dict[\"objects\"][1][\"classTitle\"] = \"Number\" if data_dict[\"objects\"][0][\"classTitle\"] == \"License Plate\" else \"Car\"\n",
        "            except:\n",
        "              pass\n",
        "            # accumulated_json.update(data_dict)\n",
        "            accumulated_json_list.append(data_dict)\n",
        "    formatted_file_name = \"accumulated_pos.png.json\"\n",
        "    formatted_file_path = '{}{}'.format(scenario2_content_path, formatted_file_name)\n",
        "    with open(formatted_file_path, mode=\"w\") as ff:\n",
        "        json.dump(accumulated_json_list, ff, indent=4)"
      ],
      "metadata": {
        "id": "IUBrcUUW4RRr"
      },
      "execution_count": 6,
      "outputs": []
    },
    {
      "cell_type": "code",
      "source": [
        "scenario2()"
      ],
      "metadata": {
        "id": "4b1r20qajdMB"
      },
      "execution_count": 8,
      "outputs": []
    },
    {
      "cell_type": "code",
      "source": [
        "if __name__ == '__main__':\n",
        "    try:\n",
        "        scenario1()\n",
        "        scenario2()\n",
        "    except Exception as e:\n",
        "        print(\"Encountered exception {}\".format(e))\n"
      ],
      "metadata": {
        "id": "W-TskR141jq9"
      },
      "execution_count": null,
      "outputs": []
    }
  ]
}